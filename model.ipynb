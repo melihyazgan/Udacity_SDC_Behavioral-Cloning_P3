{
 "cells": [
  {
   "cell_type": "code",
   "execution_count": 1,
   "metadata": {},
   "outputs": [
    {
     "name": "stderr",
     "output_type": "stream",
     "text": [
      "Using TensorFlow backend.\n",
      "C:\\Users\\myazgan\\anaconda3\\envs\\carnd-term1\\lib\\site-packages\\h5py\\__init__.py:36: FutureWarning: Conversion of the second argument of issubdtype from `float` to `np.floating` is deprecated. In future, it will be treated as `np.float64 == np.dtype(float).type`.\n",
      "  from ._conv import register_converters as _register_converters\n"
     ]
    }
   ],
   "source": [
    "from keras.models import Sequential\n",
    "from keras.layers.core import Dense, Activation, Flatten, Dropout, Lambda\n",
    "from keras.layers.convolutional import Conv2D\n",
    "from keras.layers.normalization import BatchNormalization\n",
    "from keras.layers.pooling import MaxPooling2D\n",
    "from keras.layers.advanced_activations import ELU\n",
    "from keras.regularizers import l2\n",
    "from keras import regularizers\n",
    "from keras.optimizers import Adam\n",
    "from keras.callbacks import ModelCheckpoint, Callback, EarlyStopping\n",
    "from sklearn.model_selection import train_test_split\n",
    "from sklearn.utils import shuffle\n",
    "import math\n",
    "import numpy as np\n",
    "from PIL import Image         \n",
    "import cv2                 \n",
    "import matplotlib.pyplot as plt\n",
    "import csv\n",
    "import os.path\n",
    "from os.path import split"
   ]
  },
  {
   "cell_type": "code",
   "execution_count": 2,
   "metadata": {},
   "outputs": [
    {
     "name": "stdout",
     "output_type": "stream",
     "text": [
      "My Data Samples: (26262,) (26262,)\n"
     ]
    }
   ],
   "source": [
    "# My Data Samples\n",
    "img_path_prepend = ['/my_data/IMG']\n",
    "csv_path = './my_data/driving_log.csv'\n",
    "\n",
    "image_paths = []\n",
    "angles = []\n",
    "\n",
    "    # Import driving data from csv\n",
    "with open(csv_path, newline='') as f:\n",
    "    driving_data = list(csv.reader(f, skipinitialspace=True, delimiter=',', quoting=csv.QUOTE_NONE))\n",
    "\n",
    "\n",
    "    # Gather data - image paths and angles for center, left, right cameras in each row\n",
    "    for row in driving_data[1:]:\n",
    "        # skip it if ~0 speed - not representative of driving behavior\n",
    "        if float(row[6]) < 0.1 :\n",
    "            continue\n",
    "        # get center image path and angle\n",
    "        s = row[0]\n",
    "        s = os.path.split(s)\n",
    "        filename = s[1].split('\\\\')[-1]\n",
    "        name = './my_data/IMG/' + filename\n",
    "        image_paths.append(name)\n",
    "        angles.append(float(row[3]))\n",
    "        # get left image path and angle\n",
    "        s = row[1]\n",
    "        s = os.path.split(s)\n",
    "        filename = s[1].split('\\\\')[-1]\n",
    "        name = './my_data/IMG/' + filename\n",
    "        image_paths.append(name)\n",
    "        angles.append(float(row[3])+0.225)\n",
    "        # get left image path and angle\n",
    "        s = row[2]\n",
    "        s = os.path.split(s)\n",
    "        filename = s[1].split('\\\\')[-1]\n",
    "        name = './my_data/IMG/' + filename\n",
    "        image_paths.append(name)\n",
    "        angles.append(float(row[3])-0.225)\n",
    "\n",
    "my_image_paths = np.array(image_paths)\n",
    "my_angles = np.array(angles)\n",
    "\n",
    "print('My Data Samples:', my_image_paths.shape, my_angles.shape)"
   ]
  },
  {
   "cell_type": "code",
   "execution_count": 3,
   "metadata": {},
   "outputs": [
    {
     "name": "stdout",
     "output_type": "stream",
     "text": [
      "My Data Samples 2: (34716,) (34716,)\n"
     ]
    }
   ],
   "source": [
    "# My Data Samples 2\n",
    "img_path_prepend = ['/my_data2/IMG']\n",
    "csv_path = './my_data2/driving_log.csv'\n",
    "\n",
    "image_paths = []\n",
    "angles = []\n",
    "\n",
    "    # Import driving data from csv\n",
    "with open(csv_path, newline='') as f:\n",
    "    driving_data = list(csv.reader(f, skipinitialspace=True, delimiter=',', quoting=csv.QUOTE_NONE))\n",
    "\n",
    "\n",
    "    # Gather data --> Left,Center,Right camera images and theier correction values\n",
    "    for row in driving_data[1:]:\n",
    "        # if ~0 speed - not representative for driving behavior\n",
    "        if float(row[6]) < 0.1 :\n",
    "            continue\n",
    "        # get center image path and angle\n",
    "        s = row[0]\n",
    "        s = os.path.split(s)\n",
    "        filename = s[1].split('\\\\')[-1]\n",
    "        name = './my_data2/IMG/' + filename\n",
    "        image_paths.append(name)\n",
    "        angles.append(float(row[3]))\n",
    "        # get left image path and angle\n",
    "        s = row[1]\n",
    "        s = os.path.split(s)\n",
    "        filename = s[1].split('\\\\')[-1]\n",
    "        name = './my_data2/IMG/' + filename\n",
    "        image_paths.append(name)\n",
    "        angles.append(float(row[3])+0.225)\n",
    "        # get left image path and angle\n",
    "        s = row[2]\n",
    "        s = os.path.split(s)\n",
    "        filename = s[1].split('\\\\')[-1]\n",
    "        name = './my_data2/IMG/' + filename\n",
    "        image_paths.append(name)\n",
    "        angles.append(float(row[3])-0.225)\n",
    "\n",
    "my_image_paths2 = np.array(image_paths)\n",
    "my_angles2 = np.array(angles)\n",
    "\n",
    "print('My Data Samples 2:', my_image_paths2.shape, my_angles2.shape)"
   ]
  },
  {
   "cell_type": "code",
   "execution_count": 4,
   "metadata": {},
   "outputs": [
    {
     "name": "stdout",
     "output_type": "stream",
     "text": [
      "Track2 Data: (24075,) (24075,)\n"
     ]
    }
   ],
   "source": [
    "# Track2. In track 2 Steering correction (+,-)0.35 degree. Because Track 2 has more tough curves, I thought that It could be usefull by learning. \n",
    "img_path_prepend = ['/my_data/track2/IMG']\n",
    "csv_path = './my_data/track2/driving_log.csv'\n",
    "\n",
    "image_paths = []\n",
    "angles = []\n",
    "\n",
    "    # Import driving data from csv\n",
    "with open(csv_path, newline='') as f:\n",
    "    driving_data = list(csv.reader(f, skipinitialspace=True, delimiter=',', quoting=csv.QUOTE_NONE))\n",
    "\n",
    "\n",
    "    # Gather data --> Left,Center,Right camera images and theier correction values\n",
    "    for row in driving_data[1:]:\n",
    "        # if ~0 speed - not representative for driving behavior\n",
    "        if float(row[6]) < 0.1 :\n",
    "            continue\n",
    "        # get center image path and angle\n",
    "        s = row[0]\n",
    "        s = os.path.split(s)\n",
    "        filename = s[1].split('\\\\')[-1]\n",
    "        name = './my_data/track2/IMG/' + filename\n",
    "        image_paths.append(name)\n",
    "        angles.append(float(row[3]))\n",
    "        # get left image path and angle\n",
    "        s = row[1]\n",
    "        s = os.path.split(s)\n",
    "        filename = s[1].split('\\\\')[-1]\n",
    "        name = './my_data/track2/IMG/' + filename\n",
    "        image_paths.append(name)\n",
    "        angles.append(float(row[3])+0.225)\n",
    "        # get left image path and angle\n",
    "        s = row[2]\n",
    "        s = os.path.split(s)\n",
    "        filename = s[1].split('\\\\')[-1]\n",
    "        name = './my_data/track2/IMG/' + filename\n",
    "        image_paths.append(name)\n",
    "        angles.append(float(row[3])-0.225)\n",
    "\n",
    "track2_image_paths = np.array(image_paths)\n",
    "track2_angles = np.array(angles)\n",
    "\n",
    "print('Track2 Data:', track2_image_paths.shape, track2_angles.shape)"
   ]
  },
  {
   "cell_type": "code",
   "execution_count": 5,
   "metadata": {},
   "outputs": [
    {
     "name": "stdout",
     "output_type": "stream",
     "text": [
      "(85053,)\n",
      "(85053,)\n"
     ]
    }
   ],
   "source": [
    "# Stack data sources\n",
    "# This was easy for me to collect data from different sources\n",
    "image_paths = np.concatenate((my_image_paths2,my_image_paths))\n",
    "image_paths = np.concatenate((image_paths,track2_image_paths))\n",
    "print(image_paths.shape)\n",
    "angles = np.concatenate((my_angles2,my_angles))\n",
    "angles = np.concatenate((angles,track2_angles))\n",
    "print(angles.shape)"
   ]
  },
  {
   "cell_type": "code",
   "execution_count": 6,
   "metadata": {},
   "outputs": [],
   "source": [
    "def preprocess_image(img):\n",
    "    '''\n",
    "    It should be same in drive.py\n",
    "    '''\n",
    "    # Crop\n",
    "    pp_img = img[90:135,:,:]\n",
    "    # Gaussian Blur\n",
    "    pp_img = cv2.GaussianBlur(pp_img, (3,3), 0)\n",
    "    # Scaling \n",
    "    pp_img = cv2.resize(pp_img,(200, 66), interpolation = cv2.INTER_AREA)\n",
    "    # convert to YUV color space\n",
    "    pp_img = cv2.cvtColor(pp_img, cv2.COLOR_BGR2RGB)\n",
    "    return pp_img\n",
    "\n",
    "def adjust_brightness(image,angle):\n",
    "    image_hsv = cv2.cvtColor(image,cv2.COLOR_RGB2HSV)\n",
    "    brightness = np.random.uniform(low = 0.15, high = 0.95,size=1)\n",
    "    image_hsv[:,:,2] = image_hsv[:,:,2] * brightness\n",
    "    new_angle = -1 * angle\n",
    "    brightness_adjusted = cv2.cvtColor(image_hsv,cv2.COLOR_HSV2RGB)\n",
    "    return brightness_adjusted,angle\n",
    "\n",
    "def translation_image(img,angle):\n",
    "    # this will shift image horizontally and vertically and add a small value--> same in Project2\n",
    "    rows,cols,ch = img.shape\n",
    "    range_tr = 100\n",
    "    dx = range_tr * np.random.uniform() - range_tr/2\n",
    "    dy = 40 * np.random.uniform()-40/2\n",
    "    M = np.float32([[1, 0, dx], [0, 1, dy]])\n",
    "    dst = cv2.warpAffine(img, M, (cols, rows))\n",
    "    new_angle = angle + dx/range_tr*2*.2\n",
    "    return dst, new_angle\n",
    "\n",
    "def flip(img,angle):\n",
    "    return cv2.flip(img,1),-angle"
   ]
  },
  {
   "cell_type": "code",
   "execution_count": 7,
   "metadata": {},
   "outputs": [
    {
     "data": {
      "image/png": "[encoded data removed]",
      "text/plain": [
       "<matplotlib.figure.Figure at 0x17d4ebae668>"
      ]
     },
     "metadata": {},
     "output_type": "display_data"
    },
    {
     "data": {
      "image/png": "[encoded data removed]",
      "text/plain": [
       "<matplotlib.figure.Figure at 0x17d4d602940>"
      ]
     },
     "metadata": {},
     "output_type": "display_data"
    }
   ],
   "source": [
    "# Example Images\n",
    "index = 43199\n",
    "img = cv2.imread(image_paths[index])\n",
    "#plt.imshow(img) # Original Image\n",
    "#plt.title('Steering Angle: '+ str(angles[index]))\n",
    "#plt.savefig('./original_imagetr1.png')\n",
    "#plt.show()\n",
    "pp_img = preprocess_image(img)\n",
    "plt.imshow(pp_img) # Preprocessed Image\n",
    "plt.title('Steering Angle: '+ str(angles[index]))\n",
    "plt.savefig('./pp_imagetr2beforshift.png')\n",
    "plt.show()\n",
    "tr_img,new_angle = translation_image(pp_img,angles[index])\n",
    "plt.imshow(tr_img) # Preprocessed Image\n",
    "plt.title('Steering Angle: '+ str(new_angle))\n",
    "plt.savefig('./pp_imagetr2aftershift.png')"
   ]
  },
  {
   "cell_type": "code",
   "execution_count": 8,
   "metadata": {},
   "outputs": [],
   "source": [
    "def generate_training_data(image_paths, angles, batch_size=120, validation_flag=False):\n",
    "    image_paths, angles = shuffle(image_paths, angles)\n",
    "    while True:       \n",
    "        for offset in range(0,len(angles),batch_size):\n",
    "            batch_samples_paths = image_paths[offset:offset+batch_size]\n",
    "            batch_samples_angles = angles[offset:offset+batch_size]\n",
    "            images_gen,angles_gen = ([],[])\n",
    "            for i in range(len(batch_samples_paths)):\n",
    "                img = cv2.imread(batch_samples_paths[i])\n",
    "                angle = batch_samples_angles[i]\n",
    "                img = preprocess_image(img)\n",
    "                if not validation_flag:\n",
    "                    img, angle = translation_image(img, angle)\n",
    "                    #img, angle = adjust_brightness(img, angle)\n",
    "                images_gen.append(img)\n",
    "                angles_gen.append(angle)\n",
    "            yield (np.array(images_gen), np.array(angles_gen))\n",
    "            image_paths, angles = shuffle(image_paths, angles)       "
   ]
  },
  {
   "cell_type": "code",
   "execution_count": 9,
   "metadata": {
    "scrolled": false
   },
   "outputs": [
    {
     "data": {
      "image/png": "[encoded data removed]",
      "text/plain": [
       "<matplotlib.figure.Figure at 0x17d4f2abdd8>"
      ]
     },
     "metadata": {},
     "output_type": "display_data"
    }
   ],
   "source": [
    "# histogram to see biased steering angle bins, target choosen trial and error.\n",
    "num_bins = 25\n",
    "target = 4200\n",
    "hist, bins = np.histogram(angles, num_bins)\n",
    "width = 0.7 * (bins[1] - bins[0])\n",
    "center = (bins[:-1] + bins[1:]) / 2\n",
    "plt.bar(center, hist, align='center', width=width)\n",
    "plt.plot((np.min(angles), np.max(angles)), (target, target), 'k-')\n",
    "plt.savefig('./beforedist.png')\n",
    "plt.show()"
   ]
  },
  {
   "cell_type": "code",
   "execution_count": 10,
   "metadata": {},
   "outputs": [],
   "source": [
    "# don't need so many data between steering angle 0.25 and -0.25 and even in track 2 angle between 0.35 and -0,35 \n",
    "# thats why I randomly removed data.\n",
    "import random\n",
    "out_bin_index = [i for i in range(num_bins) if hist[i] > target]\n",
    "remove = []\n",
    "for i in out_bin_index:\n",
    "    index = np.where((bins[i]< angles) & (angles <= bins[i+1]))\n",
    "    quantity_remove = len(index[0]) - target\n",
    "    out = random.sample(list(index[0]),quantity_remove)\n",
    "    for j in out:\n",
    "        remove.append(j)\n",
    "image_paths = np.delete(image_paths, remove, axis=0)\n",
    "angles = np.delete(angles, remove)"
   ]
  },
  {
   "cell_type": "code",
   "execution_count": 11,
   "metadata": {},
   "outputs": [
    {
     "data": {
      "image/png": "[encoded data removed]",
      "text/plain": [
       "<matplotlib.figure.Figure at 0x17d4f5f3dd8>"
      ]
     },
     "metadata": {},
     "output_type": "display_data"
    },
    {
     "name": "stdout",
     "output_type": "stream",
     "text": [
      "Train: (36888,) (36888,)\n",
      "Test: (6510,) (6510,)\n"
     ]
    }
   ],
   "source": [
    "image_paths_train, image_paths_test, angles_train, angles_test = train_test_split(image_paths, angles,test_size=0.15, random_state=42)\n",
    "# modified data histogram to produce more even distribution of steering angles\n",
    "hist, bins = np.histogram(angles_train, num_bins)\n",
    "plt.bar(center, hist, align='center', width=width)\n",
    "plt.savefig('./afterdist.png')\n",
    "plt.show()\n",
    "\n",
    "print('Train:', image_paths_train.shape, angles_train.shape)\n",
    "print('Test:', image_paths_test.shape, angles_test.shape)"
   ]
  },
  {
   "cell_type": "code",
   "execution_count": 12,
   "metadata": {},
   "outputs": [
    {
     "name": "stdout",
     "output_type": "stream",
     "text": [
      "WARNING:tensorflow:From C:\\Users\\myazgan\\anaconda3\\envs\\carnd-term1\\lib\\site-packages\\keras\\backend\\tensorflow_backend.py:1023: calling reduce_prod (from tensorflow.python.ops.math_ops) with keep_dims is deprecated and will be removed in a future version.\n",
      "Instructions for updating:\n",
      "keep_dims is deprecated, use keepdims instead\n",
      "WARNING:tensorflow:From C:\\Users\\myazgan\\anaconda3\\envs\\carnd-term1\\lib\\site-packages\\keras\\backend\\tensorflow_backend.py:1084: calling reduce_mean (from tensorflow.python.ops.math_ops) with keep_dims is deprecated and will be removed in a future version.\n",
      "Instructions for updating:\n",
      "keep_dims is deprecated, use keepdims instead\n",
      "____________________________________________________________________________________________________\n",
      "Layer (type)                     Output Shape          Param #     Connected to                     \n",
      "====================================================================================================\n",
      "lambda_1 (Lambda)                (None, 66, 200, 3)    0           lambda_input_1[0][0]             \n",
      "____________________________________________________________________________________________________\n",
      "convolution2d_1 (Convolution2D)  (None, 33, 100, 24)   1824        lambda_1[0][0]                   \n",
      "____________________________________________________________________________________________________\n",
      "elu_1 (ELU)                      (None, 33, 100, 24)   0           convolution2d_1[0][0]            \n",
      "____________________________________________________________________________________________________\n",
      "batchnormalization_1 (BatchNorma (None, 33, 100, 24)   96          elu_1[0][0]                      \n",
      "____________________________________________________________________________________________________\n",
      "convolution2d_2 (Convolution2D)  (None, 17, 50, 36)    21636       batchnormalization_1[0][0]       \n",
      "____________________________________________________________________________________________________\n",
      "elu_2 (ELU)                      (None, 17, 50, 36)    0           convolution2d_2[0][0]            \n",
      "____________________________________________________________________________________________________\n",
      "batchnormalization_2 (BatchNorma (None, 17, 50, 36)    144         elu_2[0][0]                      \n",
      "____________________________________________________________________________________________________\n",
      "convolution2d_3 (Convolution2D)  (None, 9, 25, 48)     43248       batchnormalization_2[0][0]       \n",
      "____________________________________________________________________________________________________\n",
      "elu_3 (ELU)                      (None, 9, 25, 48)     0           convolution2d_3[0][0]            \n",
      "____________________________________________________________________________________________________\n",
      "batchnormalization_3 (BatchNorma (None, 9, 25, 48)     192         elu_3[0][0]                      \n",
      "____________________________________________________________________________________________________\n",
      "convolution2d_4 (Convolution2D)  (None, 9, 25, 64)     27712       batchnormalization_3[0][0]       \n",
      "____________________________________________________________________________________________________\n",
      "elu_4 (ELU)                      (None, 9, 25, 64)     0           convolution2d_4[0][0]            \n",
      "____________________________________________________________________________________________________\n",
      "batchnormalization_4 (BatchNorma (None, 9, 25, 64)     256         elu_4[0][0]                      \n",
      "____________________________________________________________________________________________________\n",
      "convolution2d_5 (Convolution2D)  (None, 9, 25, 64)     36928       batchnormalization_4[0][0]       \n",
      "____________________________________________________________________________________________________\n",
      "elu_5 (ELU)                      (None, 9, 25, 64)     0           convolution2d_5[0][0]            \n",
      "____________________________________________________________________________________________________\n",
      "flatten_1 (Flatten)              (None, 14400)         0           elu_5[0][0]                      \n",
      "____________________________________________________________________________________________________\n",
      "elu_6 (ELU)                      (None, 14400)         0           flatten_1[0][0]                  \n",
      "____________________________________________________________________________________________________\n",
      "dense_1 (Dense)                  (None, 100)           1440100     elu_6[0][0]                      \n",
      "____________________________________________________________________________________________________\n",
      "elu_7 (ELU)                      (None, 100)           0           dense_1[0][0]                    \n",
      "____________________________________________________________________________________________________\n",
      "dense_2 (Dense)                  (None, 50)            5050        elu_7[0][0]                      \n",
      "____________________________________________________________________________________________________\n",
      "elu_8 (ELU)                      (None, 50)            0           dense_2[0][0]                    \n",
      "____________________________________________________________________________________________________\n",
      "dense_3 (Dense)                  (None, 10)            510         elu_8[0][0]                      \n",
      "____________________________________________________________________________________________________\n",
      "elu_9 (ELU)                      (None, 10)            0           dense_3[0][0]                    \n",
      "____________________________________________________________________________________________________\n",
      "dense_4 (Dense)                  (None, 1)             11          elu_9[0][0]                      \n",
      "====================================================================================================\n",
      "Total params: 1,577,707\n",
      "Trainable params: 1,577,363\n",
      "Non-trainable params: 344\n",
      "____________________________________________________________________________________________________\n",
      "None\n",
      "Epoch 1/20\n",
      "Epoch 00000: val_loss improved from inf to 0.08655, saving model to model1.h5\n",
      "135s - loss: 0.1942 - val_loss: 0.0866\n",
      "Epoch 2/20\n",
      "Epoch 00001: val_loss did not improve\n",
      "136s - loss: 0.0853 - val_loss: 0.0885\n",
      "Epoch 3/20\n",
      "Epoch 00002: val_loss improved from 0.08655 to 0.06790, saving model to model1.h5\n",
      "138s - loss: 0.0725 - val_loss: 0.0679\n",
      "Epoch 4/20\n",
      "Epoch 00003: val_loss improved from 0.06790 to 0.06001, saving model to model1.h5\n",
      "141s - loss: 0.0671 - val_loss: 0.0600\n",
      "Epoch 5/20\n",
      "Epoch 00004: val_loss improved from 0.06001 to 0.05365, saving model to model1.h5\n",
      "142s - loss: 0.0639 - val_loss: 0.0536\n",
      "Epoch 6/20\n",
      "Epoch 00005: val_loss improved from 0.05365 to 0.05348, saving model to model1.h5\n",
      "143s - loss: 0.0614 - val_loss: 0.0535\n",
      "Epoch 7/20\n",
      "Epoch 00006: val_loss did not improve\n",
      "144s - loss: 0.0595 - val_loss: 0.0567\n",
      "Epoch 8/20\n",
      "Epoch 00007: val_loss did not improve\n",
      "145s - loss: 0.0583 - val_loss: 0.0625\n",
      "Epoch 9/20\n",
      "Epoch 00008: val_loss did not improve\n",
      "145s - loss: 0.0575 - val_loss: 0.0556\n",
      "Epoch 10/20\n",
      "Epoch 00009: val_loss did not improve\n",
      "146s - loss: 0.0558 - val_loss: 0.0558\n",
      "Epoch 11/20\n",
      "Epoch 00010: val_loss did not improve\n",
      "144s - loss: 0.0549 - val_loss: 0.0564\n",
      "Epoch 12/20\n",
      "Epoch 00011: val_loss did not improve\n",
      "143s - loss: 0.0552 - val_loss: 0.0538\n",
      "Epoch 13/20\n",
      "Epoch 00012: val_loss did not improve\n",
      "143s - loss: 0.0551 - val_loss: 0.0539\n",
      "Epoch 14/20\n",
      "Epoch 00013: val_loss improved from 0.05348 to 0.05201, saving model to model1.h5\n",
      "143s - loss: 0.0537 - val_loss: 0.0520\n",
      "Epoch 15/20\n",
      "Epoch 00014: val_loss improved from 0.05201 to 0.04946, saving model to model1.h5\n",
      "145s - loss: 0.0536 - val_loss: 0.0495\n",
      "Epoch 16/20\n",
      "Epoch 00015: val_loss improved from 0.04946 to 0.04770, saving model to model1.h5\n",
      "146s - loss: 0.0524 - val_loss: 0.0477\n",
      "Epoch 17/20\n",
      "Epoch 00016: val_loss did not improve\n",
      "145s - loss: 0.0514 - val_loss: 0.0500\n",
      "Epoch 18/20\n",
      "Epoch 00017: val_loss did not improve\n",
      "145s - loss: 0.0515 - val_loss: 0.0494\n",
      "Epoch 19/20\n",
      "Epoch 00018: val_loss improved from 0.04770 to 0.04724, saving model to model1.h5\n",
      "146s - loss: 0.0520 - val_loss: 0.0472\n",
      "Epoch 20/20\n",
      "Epoch 00019: val_loss did not improve\n",
      "144s - loss: 0.0515 - val_loss: 0.0503\n",
      "Model Saved..\n"
     ]
    }
   ],
   "source": [
    "# Instead of using dropout would prefer batch Normalization and L2 Regularizer to prevent overfitting.\n",
    "ready = False\n",
    "if not ready:\n",
    "    model = Sequential()\n",
    "\n",
    "    # Normalize\n",
    "    model.add(Lambda(lambda x: (x/127.5) - 1.0,input_shape=(66,200,3)))\n",
    "    \n",
    "    model.add(Conv2D(24, 5, 5,subsample=(2, 2), border_mode='same'))#,W_regularizer=l2(0.001)))\n",
    "    model.add(ELU())\n",
    "    model.add(BatchNormalization(axis=-1))\n",
    "    \n",
    "    model.add(Conv2D(36, 5, 5, subsample=(2, 2), border_mode='same'))#,W_regularizer=l2(0.001)))\n",
    "    model.add(ELU())\n",
    "    model.add(BatchNormalization(axis=-1))\n",
    "    \n",
    "    model.add(Conv2D(48, 5, 5, subsample=(2, 2), border_mode='same'))#,W_regularizer=l2(0.001)))\n",
    "    model.add(ELU())\n",
    "    model.add(BatchNormalization(axis=-1))\n",
    "    \n",
    "    model.add(Conv2D(64, 3, 3, subsample=(1,1),border_mode='same'))#,W_regularizer=l2(0.001)))\n",
    "    model.add(ELU())\n",
    "    model.add(BatchNormalization(axis=-1))\n",
    "\n",
    "    model.add(Conv2D(64, 3, 3, subsample=(1,1),border_mode='same'))#,W_regularizer=l2(0.001)))\n",
    "    model.add(ELU())\n",
    "    \n",
    "    model.add(Flatten())\n",
    "    model.add(ELU())\n",
    "    \n",
    "    model.add(Dense(100))#W_regularizer=l2(0.001)))\n",
    "    #model.add(Dropout(.5))\n",
    "    model.add(ELU())\n",
    "\n",
    "    model.add(Dense(50))#W_regularizer=l2(0.001)))\n",
    "    #model.add(Dropout(.5))\n",
    "    model.add(ELU())\n",
    "    model.add(Dense(10))#W_regularizer=l2(0.001)))\n",
    "    #model.add(Dropout(.5))\n",
    "    model.add(ELU())\n",
    "    model.add(Dense(1))\n",
    "    #model.compile('adam', 'mean_squared_error')\n",
    "    model.compile(optimizer='adam', loss='mse')\n",
    "\n",
    "    print(model.summary())\n",
    "    # initialize generators\n",
    "    train_gen = generate_training_data(image_paths_train, angles_train, validation_flag=False, batch_size=120)\n",
    "    val_gen = generate_training_data(image_paths_test, angles_test, validation_flag=True, batch_size=120)\n",
    "\n",
    "    checkpoint = ModelCheckpoint(filepath='model.h5', monitor='val_loss', verbose=2, save_best_only=True)\n",
    "    #checkpoint = ModelCheckpoint('model{epoch:02d}.h5')\n",
    "    #earlystop = EarlyStopping(monitor='val_loss', min_delta=0, patience=3, verbose=2, mode='auto')\n",
    "    history = model.fit_generator(train_gen, validation_data=val_gen, nb_val_samples=image_paths_test.shape[0], samples_per_epoch=image_paths_train.shape[0],nb_epoch=20, verbose=2, callbacks=[checkpoint])#,earlystop])\n",
    "\n",
    "   \n",
    "    \n",
    "\n",
    "    # Save model data\n",
    "    #model.save('model.h5')\n",
    "    print('Model Saved..')"
   ]
  },
  {
   "cell_type": "code",
   "execution_count": 13,
   "metadata": {},
   "outputs": [
    {
     "data": {
      "image/png": "[encoded data removed]",
      "text/plain": [
       "<matplotlib.figure.Figure at 0x17d4f316978>"
      ]
     },
     "metadata": {},
     "output_type": "display_data"
    },
    {
     "name": "stdout",
     "output_type": "stream",
     "text": [
      "Finished..\n"
     ]
    }
   ],
   "source": [
    "fig = plt.figure()\n",
    "plt.plot(history.history['loss'])\n",
    "plt.plot(history.history['val_loss'])\n",
    "plt.ylabel('Mean Squared Error Loss')\n",
    "plt.xlabel('Epoch')\n",
    "plt.legend(['train', 'Validation'], loc='upper right')\n",
    "plt.show()\n",
    "fig.savefig('test_val_acc.png')\n",
    "print('Finished..')"
   ]
  },
  {
   "cell_type": "code",
   "execution_count": null,
   "metadata": {},
   "outputs": [],
   "source": []
  }
 ],
 "metadata": {
  "kernelspec": {
   "display_name": "Python 3",
   "language": "python",
   "name": "python3"
  },
  "language_info": {
   "codemirror_mode": {
    "name": "ipython",
    "version": 3
   },
   "file_extension": ".py",
   "mimetype": "text/x-python",
   "name": "python",
   "nbconvert_exporter": "python",
   "pygments_lexer": "ipython3",
   "version": "3.5.2"
  },
  "widgets": {
   "state": {},
   "version": "1.1.2"
  }
 },
 "nbformat": 4,
 "nbformat_minor": 2
}
